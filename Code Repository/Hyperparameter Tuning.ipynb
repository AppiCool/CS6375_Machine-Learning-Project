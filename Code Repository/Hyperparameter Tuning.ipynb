{
 "cells": [
  {
   "cell_type": "code",
   "execution_count": 123,
   "id": "425c3087",
   "metadata": {},
   "outputs": [],
   "source": [
    "import matplotlib.pyplot as plt\n",
    "import pandas as pd\n",
    "import seaborn as sns\n",
    "import pickle as pkl\n",
    "import numpy as np\n",
    "from sklearn import svm\n",
    "from sklearn.model_selection import train_test_split\n",
    "from sklearn.neighbors import KNeighborsRegressor \n",
    "from sklearn.ensemble import RandomForestRegressor, ExtraTreesRegressor, AdaBoostRegressor\n",
    "from sklearn.linear_model import LogisticRegression, LogisticRegressionCV, SGDRegressor\n",
    "from sklearn.model_selection import train_test_split, GridSearchCV\n",
    "from xgboost import XGBRegressor, XGBRFRegressor\n",
    "from sklearn.preprocessing import Normalizer\n",
    "from sklearn.metrics import r2_score, mean_absolute_error\n",
    "from sklearn.preprocessing import LabelEncoder\n",
    "from sklearn.tree import DecisionTreeRegressor\n",
    "import warnings\n",
    "warnings.filterwarnings('ignore')"
   ]
  },
  {
   "cell_type": "markdown",
   "id": "f74193f0",
   "metadata": {},
   "source": [
    "# Loading Data"
   ]
  },
  {
   "cell_type": "code",
   "execution_count": 2,
   "id": "70d6bfa9",
   "metadata": {},
   "outputs": [
    {
     "data": {
      "text/html": [
       "<div>\n",
       "<style scoped>\n",
       "    .dataframe tbody tr th:only-of-type {\n",
       "        vertical-align: middle;\n",
       "    }\n",
       "\n",
       "    .dataframe tbody tr th {\n",
       "        vertical-align: top;\n",
       "    }\n",
       "\n",
       "    .dataframe thead th {\n",
       "        text-align: right;\n",
       "    }\n",
       "</style>\n",
       "<table border=\"1\" class=\"dataframe\">\n",
       "  <thead>\n",
       "    <tr style=\"text-align: right;\">\n",
       "      <th></th>\n",
       "      <th>Airline</th>\n",
       "      <th>Source</th>\n",
       "      <th>Destination</th>\n",
       "      <th>Duration</th>\n",
       "      <th>Total_Stops</th>\n",
       "      <th>Price</th>\n",
       "      <th>dep_month</th>\n",
       "      <th>dep_day</th>\n",
       "      <th>Dep_hour</th>\n",
       "      <th>Dep_minutes</th>\n",
       "      <th>Arr_hour</th>\n",
       "      <th>Arr_minutes</th>\n",
       "    </tr>\n",
       "  </thead>\n",
       "  <tbody>\n",
       "    <tr>\n",
       "      <th>0</th>\n",
       "      <td>3</td>\n",
       "      <td>0</td>\n",
       "      <td>5</td>\n",
       "      <td>170</td>\n",
       "      <td>0</td>\n",
       "      <td>3897</td>\n",
       "      <td>3</td>\n",
       "      <td>24</td>\n",
       "      <td>22</td>\n",
       "      <td>20</td>\n",
       "      <td>1</td>\n",
       "      <td>10</td>\n",
       "    </tr>\n",
       "    <tr>\n",
       "      <th>1</th>\n",
       "      <td>1</td>\n",
       "      <td>3</td>\n",
       "      <td>0</td>\n",
       "      <td>445</td>\n",
       "      <td>2</td>\n",
       "      <td>7662</td>\n",
       "      <td>1</td>\n",
       "      <td>5</td>\n",
       "      <td>5</td>\n",
       "      <td>50</td>\n",
       "      <td>13</td>\n",
       "      <td>15</td>\n",
       "    </tr>\n",
       "    <tr>\n",
       "      <th>2</th>\n",
       "      <td>4</td>\n",
       "      <td>2</td>\n",
       "      <td>1</td>\n",
       "      <td>1140</td>\n",
       "      <td>2</td>\n",
       "      <td>13882</td>\n",
       "      <td>9</td>\n",
       "      <td>6</td>\n",
       "      <td>9</td>\n",
       "      <td>25</td>\n",
       "      <td>4</td>\n",
       "      <td>25</td>\n",
       "    </tr>\n",
       "    <tr>\n",
       "      <th>3</th>\n",
       "      <td>3</td>\n",
       "      <td>3</td>\n",
       "      <td>0</td>\n",
       "      <td>325</td>\n",
       "      <td>1</td>\n",
       "      <td>6218</td>\n",
       "      <td>12</td>\n",
       "      <td>5</td>\n",
       "      <td>18</td>\n",
       "      <td>5</td>\n",
       "      <td>23</td>\n",
       "      <td>30</td>\n",
       "    </tr>\n",
       "    <tr>\n",
       "      <th>4</th>\n",
       "      <td>3</td>\n",
       "      <td>0</td>\n",
       "      <td>5</td>\n",
       "      <td>285</td>\n",
       "      <td>1</td>\n",
       "      <td>13302</td>\n",
       "      <td>1</td>\n",
       "      <td>3</td>\n",
       "      <td>16</td>\n",
       "      <td>50</td>\n",
       "      <td>21</td>\n",
       "      <td>35</td>\n",
       "    </tr>\n",
       "    <tr>\n",
       "      <th>...</th>\n",
       "      <td>...</td>\n",
       "      <td>...</td>\n",
       "      <td>...</td>\n",
       "      <td>...</td>\n",
       "      <td>...</td>\n",
       "      <td>...</td>\n",
       "      <td>...</td>\n",
       "      <td>...</td>\n",
       "      <td>...</td>\n",
       "      <td>...</td>\n",
       "      <td>...</td>\n",
       "      <td>...</td>\n",
       "    </tr>\n",
       "    <tr>\n",
       "      <th>10677</th>\n",
       "      <td>0</td>\n",
       "      <td>3</td>\n",
       "      <td>0</td>\n",
       "      <td>150</td>\n",
       "      <td>0</td>\n",
       "      <td>4107</td>\n",
       "      <td>9</td>\n",
       "      <td>4</td>\n",
       "      <td>19</td>\n",
       "      <td>55</td>\n",
       "      <td>22</td>\n",
       "      <td>25</td>\n",
       "    </tr>\n",
       "    <tr>\n",
       "      <th>10678</th>\n",
       "      <td>1</td>\n",
       "      <td>3</td>\n",
       "      <td>0</td>\n",
       "      <td>155</td>\n",
       "      <td>0</td>\n",
       "      <td>4145</td>\n",
       "      <td>4</td>\n",
       "      <td>27</td>\n",
       "      <td>20</td>\n",
       "      <td>45</td>\n",
       "      <td>23</td>\n",
       "      <td>20</td>\n",
       "    </tr>\n",
       "    <tr>\n",
       "      <th>10679</th>\n",
       "      <td>4</td>\n",
       "      <td>0</td>\n",
       "      <td>2</td>\n",
       "      <td>180</td>\n",
       "      <td>0</td>\n",
       "      <td>7229</td>\n",
       "      <td>4</td>\n",
       "      <td>27</td>\n",
       "      <td>8</td>\n",
       "      <td>20</td>\n",
       "      <td>11</td>\n",
       "      <td>20</td>\n",
       "    </tr>\n",
       "    <tr>\n",
       "      <th>10680</th>\n",
       "      <td>10</td>\n",
       "      <td>0</td>\n",
       "      <td>5</td>\n",
       "      <td>160</td>\n",
       "      <td>0</td>\n",
       "      <td>12648</td>\n",
       "      <td>1</td>\n",
       "      <td>3</td>\n",
       "      <td>11</td>\n",
       "      <td>30</td>\n",
       "      <td>14</td>\n",
       "      <td>10</td>\n",
       "    </tr>\n",
       "    <tr>\n",
       "      <th>10681</th>\n",
       "      <td>1</td>\n",
       "      <td>2</td>\n",
       "      <td>1</td>\n",
       "      <td>500</td>\n",
       "      <td>2</td>\n",
       "      <td>11753</td>\n",
       "      <td>9</td>\n",
       "      <td>5</td>\n",
       "      <td>10</td>\n",
       "      <td>55</td>\n",
       "      <td>19</td>\n",
       "      <td>15</td>\n",
       "    </tr>\n",
       "  </tbody>\n",
       "</table>\n",
       "<p>10682 rows × 12 columns</p>\n",
       "</div>"
      ],
      "text/plain": [
       "       Airline  Source  Destination  Duration  Total_Stops  Price  dep_month  \\\n",
       "0            3       0            5       170            0   3897          3   \n",
       "1            1       3            0       445            2   7662          1   \n",
       "2            4       2            1      1140            2  13882          9   \n",
       "3            3       3            0       325            1   6218         12   \n",
       "4            3       0            5       285            1  13302          1   \n",
       "...        ...     ...          ...       ...          ...    ...        ...   \n",
       "10677        0       3            0       150            0   4107          9   \n",
       "10678        1       3            0       155            0   4145          4   \n",
       "10679        4       0            2       180            0   7229          4   \n",
       "10680       10       0            5       160            0  12648          1   \n",
       "10681        1       2            1       500            2  11753          9   \n",
       "\n",
       "       dep_day  Dep_hour  Dep_minutes  Arr_hour  Arr_minutes  \n",
       "0           24        22           20         1           10  \n",
       "1            5         5           50        13           15  \n",
       "2            6         9           25         4           25  \n",
       "3            5        18            5        23           30  \n",
       "4            3        16           50        21           35  \n",
       "...        ...       ...          ...       ...          ...  \n",
       "10677        4        19           55        22           25  \n",
       "10678       27        20           45        23           20  \n",
       "10679       27         8           20        11           20  \n",
       "10680        3        11           30        14           10  \n",
       "10681        5        10           55        19           15  \n",
       "\n",
       "[10682 rows x 12 columns]"
      ]
     },
     "execution_count": 2,
     "metadata": {},
     "output_type": "execute_result"
    }
   ],
   "source": [
    "df = pd.read_csv('refined.csv')\n",
    "df = df.iloc[:,1:]\n",
    "df"
   ]
  },
  {
   "cell_type": "markdown",
   "id": "e3e6e12a",
   "metadata": {},
   "source": [
    "# Data Split"
   ]
  },
  {
   "cell_type": "code",
   "execution_count": 3,
   "id": "0e54ae62",
   "metadata": {},
   "outputs": [],
   "source": [
    "x = df.drop(columns='Price')\n",
    "y = df['Price']"
   ]
  },
  {
   "cell_type": "code",
   "execution_count": 4,
   "id": "80618fd3",
   "metadata": {},
   "outputs": [
    {
     "name": "stdout",
     "output_type": "stream",
     "text": [
      "(8545, 11)\n",
      "(2137, 11)\n",
      "(8545,)\n",
      "(2137,)\n"
     ]
    }
   ],
   "source": [
    "x_train, x_test, y_train, y_test = train_test_split(\n",
    "                                        x,\n",
    "                                        y,\n",
    "                                        random_state=1234,test_size = 0.20,\n",
    "                                        shuffle=True\n",
    "                                        )\n",
    "print(x_train.shape)\n",
    "print(x_test.shape)\n",
    "print(y_train.shape)\n",
    "print(y_test.shape)"
   ]
  },
  {
   "cell_type": "markdown",
   "id": "9dd3f720",
   "metadata": {},
   "source": [
    "# Decision Tree Regresor"
   ]
  },
  {
   "cell_type": "code",
   "execution_count": 218,
   "id": "e54da1d0",
   "metadata": {},
   "outputs": [
    {
     "name": "stdout",
     "output_type": "stream",
     "text": [
      "Train Score: 0.9717818150899008\n",
      "Test Score: 0.7241279904089539\n"
     ]
    }
   ],
   "source": [
    "dt = DecisionTreeRegressor()\n",
    "dt.fit(x_train, y_train)\n",
    "print('Train Score:',df.score(x_train,y_train))\n",
    "print('Test Score:',df.score(x_test,y_test))"
   ]
  },
  {
   "cell_type": "code",
   "execution_count": 219,
   "id": "7db9dc81",
   "metadata": {},
   "outputs": [
    {
     "name": "stdout",
     "output_type": "stream",
     "text": [
      "MAE: 1347.4930510060833\n",
      "R2_score 0.7225208591337251\n"
     ]
    }
   ],
   "source": [
    "y_pred = dt.predict(x_test)\n",
    "print('MAE:',mean_absolute_error(y_pred,y_test))\n",
    "print('R2_score',r2_score(y_test,y_pred))"
   ]
  },
  {
   "cell_type": "markdown",
   "id": "4d390c0e",
   "metadata": {},
   "source": [
    "##### Tuning"
   ]
  },
  {
   "cell_type": "code",
   "execution_count": 114,
   "id": "a2794732",
   "metadata": {},
   "outputs": [
    {
     "name": "stdout",
     "output_type": "stream",
     "text": [
      "Fitting 5 folds for each of 81 candidates, totalling 405 fits\n",
      "DecisionTreeRegressor(max_depth=10, max_features='auto', min_samples_leaf=2,\n",
      "                      min_samples_split=5, random_state=0) {'max_depth': 10, 'max_features': 'auto', 'min_samples_leaf': 2, 'min_samples_split': 5} 0.7287079853517497\n"
     ]
    }
   ],
   "source": [
    "param_grid = {\n",
    "    'max_depth': [None, 5, 10],\n",
    "    'min_samples_split': [3, 4, 5],\n",
    "    'min_samples_leaf': [1, 2, 3],\n",
    "    'max_features': ['auto', 'sqrt', 'log2']\n",
    "}\n",
    "\n",
    "dt_reg = DecisionTreeRegressor(random_state=0)\n",
    "fitmodel = GridSearchCV(estimator=dt_reg, param_grid=param_grid, cv=5, n_jobs=-1,verbose = 1)\n",
    "fitmodel.fit(x_train, y_train)\n",
    "print(fitmodel.best_estimator_, fitmodel.best_params_, fitmodel.best_score_)"
   ]
  },
  {
   "cell_type": "code",
   "execution_count": 212,
   "id": "6c024acc",
   "metadata": {},
   "outputs": [
    {
     "name": "stdout",
     "output_type": "stream",
     "text": [
      "Train Score: 0.8521273258128419\n",
      "Test Score: 0.7820190228194326\n"
     ]
    }
   ],
   "source": [
    "dt = DecisionTreeRegressor(max_depth=10, max_features='auto', min_samples_leaf=2,\n",
    "                      min_samples_split=5)\n",
    "dt.fit(x_train, y_train)\n",
    "print('Train Score:',dt.score(x_train,y_train))\n",
    "print('Test Score:',dt.score(x_test,y_test))"
   ]
  },
  {
   "cell_type": "code",
   "execution_count": 213,
   "id": "a7070fb5",
   "metadata": {},
   "outputs": [
    {
     "name": "stdout",
     "output_type": "stream",
     "text": [
      "MAE: 1324.9109534144775\n",
      "R2_score 0.7820190228194326\n"
     ]
    }
   ],
   "source": [
    "y_pred = dt.predict(x_test)\n",
    "print('MAE:',mean_absolute_error(y_pred,y_test))\n",
    "print('R2_score',r2_score(y_test,y_pred))"
   ]
  },
  {
   "cell_type": "markdown",
   "id": "5ed41f84",
   "metadata": {},
   "source": [
    "# Random Forest Regresor"
   ]
  },
  {
   "cell_type": "code",
   "execution_count": 214,
   "id": "8e1fb17c",
   "metadata": {},
   "outputs": [
    {
     "name": "stdout",
     "output_type": "stream",
     "text": [
      "Train Score: 0.9513186575229488\n",
      "Test Score: 0.8165708335268179\n"
     ]
    }
   ],
   "source": [
    "rf = RandomForestRegressor()\n",
    "rf.fit(x_train, y_train)\n",
    "print('Train Score:',rf.score(x_train,y_train))\n",
    "print('Test Score:',rf.score(x_test,y_test))"
   ]
  },
  {
   "cell_type": "code",
   "execution_count": 215,
   "id": "7511acdb",
   "metadata": {},
   "outputs": [
    {
     "name": "stdout",
     "output_type": "stream",
     "text": [
      "MAE: 1177.8445946111292\n",
      "R2_score 0.8165708335268179\n"
     ]
    }
   ],
   "source": [
    "y_pred = rf.predict(x_test)\n",
    "print('MAE:',mean_absolute_error(y_pred,y_test))\n",
    "print('R2_score',r2_score(y_test,y_pred))"
   ]
  },
  {
   "cell_type": "markdown",
   "id": "6cb8086a",
   "metadata": {},
   "source": [
    "##### Tuning"
   ]
  },
  {
   "cell_type": "code",
   "execution_count": 53,
   "id": "c671cf0a",
   "metadata": {},
   "outputs": [
    {
     "name": "stdout",
     "output_type": "stream",
     "text": [
      "Fitting 5 folds for each of 72 candidates, totalling 360 fits\n",
      "Parameters:  ExtraTreesRegressor(max_features='auto', min_samples_split=5)\n",
      "Best parameters:  {'max_depth': None, 'max_features': 'sqrt', 'min_samples_leaf': 1, 'min_samples_split': 5, 'n_estimators': 300}\n",
      "Best score:  0.8029804440896511\n"
     ]
    }
   ],
   "source": [
    "param_grid = {\n",
    "    'n_estimators': [100, 200, 300],\n",
    "    'max_depth': [None, 5, 10],\n",
    "    'min_samples_split': [2, 5],\n",
    "    'min_samples_leaf': [1, 2],\n",
    "    'max_features': ['auto', 'sqrt']\n",
    "}\n",
    "\n",
    "rf_reg = RandomForestRegressor()\n",
    "fitmodel = GridSearchCV(estimator=rf_reg, param_grid=param_grid, cv=5, n_jobs=-1,verbose = 1)\n",
    "fitmodel.fit(x_train, y_train)\n",
    "print(fitmodel.best_estimator_, fitmodel.best_params_, fitmodel.best_score_)"
   ]
  },
  {
   "cell_type": "code",
   "execution_count": 221,
   "id": "c1ed40a5",
   "metadata": {},
   "outputs": [
    {
     "name": "stdout",
     "output_type": "stream",
     "text": [
      "Train Score: 0.9215320860950634\n",
      "Test Score: 0.8351723710261117\n"
     ]
    }
   ],
   "source": [
    "rf = RandomForestRegressor(max_features=5, min_samples_split=6,min_samples_leaf= 1, n_estimators= 200)\n",
    "rf.fit(x_train, y_train)\n",
    "print('Train Score:',rf.score(x_train,y_train))\n",
    "print('Test Score:',rf.score(x_test,y_test))"
   ]
  },
  {
   "cell_type": "code",
   "execution_count": 222,
   "id": "9da57d19",
   "metadata": {},
   "outputs": [
    {
     "name": "stdout",
     "output_type": "stream",
     "text": [
      "MAE: 1149.2500555811164\n",
      "R2_score 0.8351723710261117\n"
     ]
    }
   ],
   "source": [
    "y_pred = rf.predict(x_test)\n",
    "print('MAE:',mean_absolute_error(y_pred,y_test))\n",
    "print('R2_score',r2_score(y_test,y_pred))"
   ]
  },
  {
   "cell_type": "markdown",
   "id": "60bcc6fd",
   "metadata": {},
   "source": [
    "# XGBoost"
   ]
  },
  {
   "cell_type": "code",
   "execution_count": 223,
   "id": "f87d7db9",
   "metadata": {},
   "outputs": [
    {
     "name": "stdout",
     "output_type": "stream",
     "text": [
      "Train Score: 0.9388032504450972\n",
      "Test Score: 0.8450509462070098\n"
     ]
    }
   ],
   "source": [
    "xgb = XGBRegressor()\n",
    "xgb.fit(x_train, y_train)\n",
    "print('Train Score:',xgb.score(x_train,y_train))\n",
    "print('Test Score:',xgb.score(x_test,y_test))"
   ]
  },
  {
   "cell_type": "code",
   "execution_count": 224,
   "id": "7fb6315c",
   "metadata": {},
   "outputs": [
    {
     "name": "stdout",
     "output_type": "stream",
     "text": [
      "MAE: 1166.465082178397\n",
      "R2_score 0.8450509462070098\n"
     ]
    }
   ],
   "source": [
    "y_pred = xgb.predict(x_test)\n",
    "print('MAE:',mean_absolute_error(y_pred,y_test))\n",
    "print('R2_score',r2_score(y_test,y_pred))"
   ]
  },
  {
   "cell_type": "markdown",
   "id": "02a11d9a",
   "metadata": {},
   "source": [
    "##### Tuning"
   ]
  },
  {
   "cell_type": "code",
   "execution_count": 161,
   "id": "94c517ec",
   "metadata": {},
   "outputs": [
    {
     "name": "stdout",
     "output_type": "stream",
     "text": [
      "Fitting 5 folds for each of 972 candidates, totalling 4860 fits\n",
      "XGBRegressor(base_score=0.5, booster='gbtree', callbacks=None,\n",
      "             colsample_bylevel=1, colsample_bynode=1, colsample_bytree=0.5,\n",
      "             early_stopping_rounds=None, enable_categorical=False,\n",
      "             eval_metric=None, gamma=0, gpu_id=-1, grow_policy='depthwise',\n",
      "             importance_type=None, interaction_constraints='',\n",
      "             learning_rate=0.1, max_bin=256, max_cat_to_onehot=4,\n",
      "             max_delta_step=0, max_depth=7, max_leaves=0, min_child_weight=1,\n",
      "             missing=nan, monotone_constraints='()', n_estimators=200, n_jobs=0,\n",
      "             num_parallel_tree=1, predictor='auto', random_state=0, reg_alpha=0,\n",
      "             reg_lambda=1, ...) {'colsample_bytree': 0.5, 'gamma': 0, 'learning_rate': 0.1, 'max_depth': 7, 'n_estimators': 200, 'subsample': 1} 0.8318252838550564\n"
     ]
    }
   ],
   "source": [
    "params = {\n",
    "        'max_depth': [3, 5, 7, 10],\n",
    "    'learning_rate': [0.01, 0.1, 0.3],\n",
    "    'n_estimators': [50, 100, 200],\n",
    "    'colsample_bytree': [0.5, 0.7, 1],\n",
    "    'gamma': [0, 0.1, 0.2],\n",
    "    'subsample': [0.5, 0.7, 1]\n",
    "        }\n",
    "xgb = XGBRegressor()\n",
    "fitmodel = GridSearchCV(xgb, param_grid=params, cv=5, refit=True, scoring=\"r2\", n_jobs=-1, verbose=5)\n",
    "fitmodel.fit(x_train, y_train)\n",
    "print(fitmodel.best_estimator_, fitmodel.best_params_, fitmodel.best_score_)\n",
    "\n",
    "# {'booster': 'gbtree', 'colsample_bytree': 0.4, 'gamma': 0, 'grow_policy': 'depthwise', 'max_depth': 6, 'min_child_weight': 2} 0.8316847387210963"
   ]
  },
  {
   "cell_type": "code",
   "execution_count": 225,
   "id": "610ab71a",
   "metadata": {},
   "outputs": [
    {
     "name": "stdout",
     "output_type": "stream",
     "text": [
      "Train Score: 0.9340167298355434\n",
      "Test Score: 0.8374383618451964\n"
     ]
    }
   ],
   "source": [
    "xgb = XGBRegressor(learning_rate=0.1,colsample_bytree= 0.5, max_depth= 7,n_estimators=200, subsample=1)\n",
    "xgb.fit(x_train, y_train)\n",
    "print('Train Score:',xgb.score(x_train,y_train))\n",
    "print('Test Score:',xgb.score(x_test,y_test))"
   ]
  },
  {
   "cell_type": "code",
   "execution_count": 226,
   "id": "b6de7ae6",
   "metadata": {},
   "outputs": [
    {
     "name": "stdout",
     "output_type": "stream",
     "text": [
      "MAE: 1172.7396297927878\n",
      "R2_score 0.8374383618451964\n"
     ]
    }
   ],
   "source": [
    "y_pred = fitmodel.best_estimator_.predict(x_test)\n",
    "print('MAE:',mean_absolute_error(y_pred,y_test))\n",
    "print('R2_score',r2_score(y_test,y_pred))"
   ]
  },
  {
   "cell_type": "markdown",
   "id": "a69306cf",
   "metadata": {},
   "source": [
    "# KNN"
   ]
  },
  {
   "cell_type": "code",
   "execution_count": 227,
   "id": "28e3c667",
   "metadata": {
    "scrolled": true
   },
   "outputs": [
    {
     "name": "stdout",
     "output_type": "stream",
     "text": [
      "Train Score: 0.7053820365092627\n",
      "Test Score: 0.5675141565846251\n",
      "\n"
     ]
    }
   ],
   "source": [
    "knn = KNeighborsRegressor()\n",
    "knn.fit(x_train,y_train)\n",
    "print('Train Score:',knn.score(x_train,y_train))\n",
    "print('Test Score:',knn.score(x_test,y_test))\n",
    "print()"
   ]
  },
  {
   "cell_type": "code",
   "execution_count": 229,
   "id": "c4cc74c8",
   "metadata": {},
   "outputs": [
    {
     "name": "stdout",
     "output_type": "stream",
     "text": [
      "MAE: 1828.4948058025268\n",
      "R2_score 0.5675141565846251\n"
     ]
    }
   ],
   "source": [
    "y_pred = knn.predict(x_test)\n",
    "print('MAE:',mean_absolute_error(y_pred,y_test))\n",
    "print('R2_score',r2_score(y_test,y_pred))"
   ]
  },
  {
   "cell_type": "markdown",
   "id": "b2d2bd44",
   "metadata": {},
   "source": [
    "##### Tuning"
   ]
  },
  {
   "cell_type": "code",
   "execution_count": 41,
   "id": "a837847d",
   "metadata": {},
   "outputs": [
    {
     "name": "stdout",
     "output_type": "stream",
     "text": [
      "KNeighborsRegressor(n_neighbors=10, weights='distance') {'leaf_size': 30, 'n_neighbors': 10, 'weights': 'distance'} 0.5024129906377326\n"
     ]
    }
   ],
   "source": [
    "knn = KNeighborsRegressor()\n",
    "\n",
    "params = {\n",
    "    #'algorithm': 'auto',\n",
    " 'leaf_size': [30,40,50],\n",
    " #'metric': 'minkowski',\n",
    " #'metric_params': None,\n",
    " 'n_neighbors': [10,15,20],\n",
    " 'weights': ['uniform','distance']\n",
    "         }\n",
    "\n",
    "fitmodel = GridSearchCV(knn, param_grid=params, cv=5, refit=True,scoring='r2')\n",
    "fitmodel.fit(x_train, y_train)\n",
    "print(fitmodel.best_estimator_, fitmodel.best_params_, fitmodel.best_score_)"
   ]
  },
  {
   "cell_type": "code",
   "execution_count": 230,
   "id": "a8887746",
   "metadata": {
    "scrolled": true
   },
   "outputs": [
    {
     "name": "stdout",
     "output_type": "stream",
     "text": [
      "Train Score: 0.9717818150899008\n",
      "Test Score: 0.5431800314779938\n",
      "\n"
     ]
    }
   ],
   "source": [
    "knn = KNeighborsRegressor(leaf_size= 30, n_neighbors= 10, weights= 'distance')\n",
    "knn.fit(x_train,y_train)\n",
    "print('Train Score:',knn.score(x_train,y_train))\n",
    "print('Test Score:',knn.score(x_test,y_test))\n",
    "print()"
   ]
  },
  {
   "cell_type": "code",
   "execution_count": 231,
   "id": "6794b8e5",
   "metadata": {},
   "outputs": [
    {
     "name": "stdout",
     "output_type": "stream",
     "text": [
      "MAE: 1936.8484857762048\n",
      "R2_score 0.5431800314779938\n"
     ]
    }
   ],
   "source": [
    "y_pred = knn.predict(x_test)\n",
    "print('MAE:',mean_absolute_error(y_pred,y_test))\n",
    "print('R2_score',r2_score(y_test,y_pred))"
   ]
  },
  {
   "cell_type": "markdown",
   "id": "47c66433",
   "metadata": {},
   "source": [
    "# ExtraTreesRegressor"
   ]
  },
  {
   "cell_type": "code",
   "execution_count": 207,
   "id": "fd66e328",
   "metadata": {},
   "outputs": [
    {
     "name": "stdout",
     "output_type": "stream",
     "text": [
      "Train Score: 0.9717808035798382\n",
      "Test Score: 0.7691292550589371\n"
     ]
    }
   ],
   "source": [
    "etr = ExtraTreesRegressor()\n",
    "etr.fit(x_train, y_train)\n",
    "print('Train Score:',etr.score(x_train,y_train))\n",
    "print('Test Score:',etr.score(x_test,y_test))"
   ]
  },
  {
   "cell_type": "code",
   "execution_count": 208,
   "id": "1bda0cad",
   "metadata": {},
   "outputs": [
    {
     "name": "stdout",
     "output_type": "stream",
     "text": [
      "MAE: 1279.390108329434\n",
      "R2_score 0.7691292550589371\n"
     ]
    }
   ],
   "source": [
    "y_pred = etr.predict(x_test)\n",
    "print('MAE:',mean_absolute_error(y_pred,y_test))\n",
    "print('R2_score',r2_score(y_test,y_pred))"
   ]
  },
  {
   "cell_type": "markdown",
   "id": "a88993c9",
   "metadata": {},
   "source": [
    "##### Tuning"
   ]
  },
  {
   "cell_type": "code",
   "execution_count": 44,
   "id": "2cb9f4cf",
   "metadata": {
    "scrolled": false
   },
   "outputs": [
    {
     "name": "stdout",
     "output_type": "stream",
     "text": [
      "Fitting 5 folds for each of 72 candidates, totalling 360 fits\n"
     ]
    },
    {
     "name": "stderr",
     "output_type": "stream",
     "text": [
      "C:\\Users\\ashwi\\AppData\\Roaming\\Python\\Python39\\site-packages\\sklearn\\ensemble\\_forest.py:416: FutureWarning: `max_features='auto'` has been deprecated in 1.1 and will be removed in 1.3. To keep the past behaviour, explicitly set `max_features=1.0` or remove this parameter as it is also the default value for RandomForestRegressors and ExtraTreesRegressors.\n",
      "  warn(\n"
     ]
    },
    {
     "name": "stdout",
     "output_type": "stream",
     "text": [
      "ExtraTreesRegressor(max_features='auto', min_samples_split=5) {'max_depth': None, 'max_features': 'auto', 'min_samples_leaf': 1, 'min_samples_split': 5, 'n_estimators': 100} 0.8189921193436038\n"
     ]
    }
   ],
   "source": [
    "etr = ExtraTreesRegressor()\n",
    "\n",
    "params = {\n",
    " 'n_estimators': [100, 200, 300],\n",
    "    'max_depth': [None, 5, 10],\n",
    "    'min_samples_split': [2, 5],\n",
    "    'min_samples_leaf': [1, 2],\n",
    "    'max_features': ['auto', 'sqrt']\n",
    "         }\n",
    "\n",
    "fitmodel = GridSearchCV(etr, param_grid=params, cv=5, refit=True,scoring='r2',verbose=1,n_jobs=-1)\n",
    "fitmodel.fit(x_train, y_train)\n",
    "print(fitmodel.best_estimator_, fitmodel.best_params_, fitmodel.best_score_)"
   ]
  },
  {
   "cell_type": "code",
   "execution_count": 154,
   "id": "61a0d90d",
   "metadata": {},
   "outputs": [
    {
     "name": "stdout",
     "output_type": "stream",
     "text": [
      "Train Score: 0.954357398294944\n",
      "Test Score: 0.8169597049115184\n"
     ]
    }
   ],
   "source": [
    "etr = ExtraTreesRegressor(max_features='auto', min_samples_split=5)\n",
    "etr.fit(x_train, y_train)\n",
    "print('Train Score:',etr.score(x_train,y_train))\n",
    "print('Test Score:',etr.score(x_test,y_test))"
   ]
  },
  {
   "cell_type": "code",
   "execution_count": 205,
   "id": "efe6b8a8",
   "metadata": {},
   "outputs": [
    {
     "name": "stdout",
     "output_type": "stream",
     "text": [
      "MAE: 1168.805208157854\n",
      "R2_score 0.8169597049115184\n"
     ]
    }
   ],
   "source": [
    "y_pred = etr.predict(x_test)\n",
    "print('MAE:',mean_absolute_error(y_pred,y_test))\n",
    "print('R2_score',r2_score(y_test,y_pred))"
   ]
  },
  {
   "cell_type": "markdown",
   "id": "702ce41c",
   "metadata": {},
   "source": [
    "# AdaBoost Regressor"
   ]
  },
  {
   "cell_type": "code",
   "execution_count": 201,
   "id": "a743b8c2",
   "metadata": {},
   "outputs": [
    {
     "name": "stdout",
     "output_type": "stream",
     "text": [
      "Train Score: 0.5236350154893887\n",
      "Test Score: 0.470446722344\n"
     ]
    }
   ],
   "source": [
    "adb = AdaBoostRegressor()\n",
    "adb.fit(x_train, y_train)\n",
    "print('Train Score:',adb.score(x_train,y_train))\n",
    "print('Test Score:',adb.score(x_test,y_test))"
   ]
  },
  {
   "cell_type": "code",
   "execution_count": 202,
   "id": "fb26eab0",
   "metadata": {},
   "outputs": [
    {
     "name": "stdout",
     "output_type": "stream",
     "text": [
      "MAE: 2723.8665586101283\n",
      "R2_score 0.470446722344\n"
     ]
    }
   ],
   "source": [
    "y_pred = adb.predict(x_test)\n",
    "print('MAE:',mean_absolute_error(y_pred,y_test))\n",
    "print('R2_score',r2_score(y_test,y_pred))"
   ]
  },
  {
   "cell_type": "markdown",
   "id": "e0b629ff",
   "metadata": {},
   "source": [
    "##### Tuning"
   ]
  },
  {
   "cell_type": "code",
   "execution_count": 73,
   "id": "95055edd",
   "metadata": {},
   "outputs": [
    {
     "name": "stdout",
     "output_type": "stream",
     "text": [
      "Fitting 5 folds for each of 8 candidates, totalling 40 fits\n",
      "Best parameters:  {'base_estimator': DecisionTreeRegressor(max_features=15), 'learning_rate': 0.3, 'n_estimators': 300}\n",
      "Best score:  0.7939170031657092\n"
     ]
    }
   ],
   "source": [
    "# Define the parameter grid to search\n",
    "param_grid = {\n",
    "    'base_estimator': [DecisionTreeRegressor(max_features=15), \n",
    "                       DecisionTreeRegressor(max_depth=10)],\n",
    "    'n_estimators': [200, 300],\n",
    "    'learning_rate': [0.1, 0.3]\n",
    "}\n",
    "\n",
    "# Create an instance of the AdaBoostRegressor\n",
    "ada_reg = AdaBoostRegressor()\n",
    "\n",
    "# Create a GridSearchCV object\n",
    "grid_search = GridSearchCV(estimator=ada_reg, param_grid=param_grid, cv=5, n_jobs=-1, verbose = 1)\n",
    "\n",
    "# Fit the GridSearchCV object to the data\n",
    "grid_search.fit(x_train, y_train)\n",
    "\n",
    "# Print the best parameters and best score\n",
    "print(\"Best parameters: \", grid_search.best_params_)\n",
    "print(\"Best score: \", grid_search.best_score_)\n"
   ]
  },
  {
   "cell_type": "code",
   "execution_count": 203,
   "id": "c0882d5a",
   "metadata": {},
   "outputs": [
    {
     "name": "stdout",
     "output_type": "stream",
     "text": [
      "Train Score: 0.9438070312670521\n",
      "Test Score: 0.8342911023961097\n"
     ]
    }
   ],
   "source": [
    "adb = AdaBoostRegressor(base_estimator= DecisionTreeRegressor(max_depth=15), learning_rate= 0.3, n_estimators= 300)\n",
    "adb.fit(x_train, y_train)\n",
    "print('Train Score:',adb.score(x_train,y_train))\n",
    "print('Test Score:',adb.score(x_test,y_test))"
   ]
  },
  {
   "cell_type": "code",
   "execution_count": 204,
   "id": "03490641",
   "metadata": {},
   "outputs": [
    {
     "name": "stdout",
     "output_type": "stream",
     "text": [
      "MAE: 1191.572356606128\n",
      "R2_score 0.8342911023961097\n"
     ]
    }
   ],
   "source": [
    "y_pred = adb.predict(x_test)\n",
    "print('MAE:',mean_absolute_error(y_pred,y_test))\n",
    "print('R2_score',r2_score(y_test,y_pred))"
   ]
  },
  {
   "cell_type": "code",
   "execution_count": null,
   "id": "4eb17675",
   "metadata": {},
   "outputs": [],
   "source": []
  }
 ],
 "metadata": {
  "kernelspec": {
   "display_name": "Python 3 (ipykernel)",
   "language": "python",
   "name": "python3"
  },
  "language_info": {
   "codemirror_mode": {
    "name": "ipython",
    "version": 3
   },
   "file_extension": ".py",
   "mimetype": "text/x-python",
   "name": "python",
   "nbconvert_exporter": "python",
   "pygments_lexer": "ipython3",
   "version": "3.9.12"
  }
 },
 "nbformat": 4,
 "nbformat_minor": 5
}
